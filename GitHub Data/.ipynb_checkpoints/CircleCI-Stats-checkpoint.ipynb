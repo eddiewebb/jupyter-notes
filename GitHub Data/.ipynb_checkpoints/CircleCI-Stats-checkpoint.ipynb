{
 "cells": [
  {
   "cell_type": "code",
   "execution_count": 1,
   "metadata": {},
   "outputs": [],
   "source": [
    "%load_ext google.cloud.bigquery"
   ]
  },
  {
   "cell_type": "code",
   "execution_count": 14,
   "metadata": {},
   "outputs": [],
   "source": [
    "from google.cloud import bigquery\n",
    "import pandas as pd\n",
    "import numpy as np\n",
    "\n",
    "client = bigquery.Client()\n"
   ]
  },
  {
   "cell_type": "code",
   "execution_count": 11,
   "metadata": {},
   "outputs": [],
   "source": [
    "query = \"\"\"\n",
    "SELECT count(*) as occurences, sum(size) as LOC\n",
    "FROM `bigquery-public-data.github_repos.files` f\n",
    "JOIN `bigquery-public-data.github_repos.contents` c on c.id = f.id\n",
    "WHERE path = '.circleci/config.yml'\n",
    "\"\"\"\n",
    "#df = client.query(query).to_dataframe()\n",
    "#df.head()"
   ]
  },
  {
   "cell_type": "code",
   "execution_count": 16,
   "metadata": {},
   "outputs": [],
   "source": [
    "query = \"\"\"\n",
    "SELECT count(*) as occurences\n",
    "FROM `bigquery-public-data.github_repos.commits`,\n",
    "UNNEST(difference) AS diff\n",
    "WHERE diff.new_path = '.circleci/config.yml'\n",
    "\"\"\"\n",
    "#df = client.query(query).to_dataframe()\n",
    "#df.head()"
   ]
  },
  {
   "cell_type": "code",
   "execution_count": 4,
   "metadata": {},
   "outputs": [
    {
     "data": {
      "text/html": [
       "<div>\n",
       "<style scoped>\n",
       "    .dataframe tbody tr th:only-of-type {\n",
       "        vertical-align: middle;\n",
       "    }\n",
       "\n",
       "    .dataframe tbody tr th {\n",
       "        vertical-align: top;\n",
       "    }\n",
       "\n",
       "    .dataframe thead th {\n",
       "        text-align: right;\n",
       "    }\n",
       "</style>\n",
       "<table border=\"1\" class=\"dataframe\">\n",
       "  <thead>\n",
       "    <tr style=\"text-align: right;\">\n",
       "      <th></th>\n",
       "      <th>commit</th>\n",
       "      <th>date</th>\n",
       "    </tr>\n",
       "  </thead>\n",
       "  <tbody>\n",
       "    <tr>\n",
       "      <th>0</th>\n",
       "      <td>4fd28836b86db8f2705caecd95a6c878029497d2</td>\n",
       "      <td>2018-02-09 23:33:49+00:00</td>\n",
       "    </tr>\n",
       "    <tr>\n",
       "      <th>1</th>\n",
       "      <td>39aab4a68e904d23f7374df195648ad49beeade3</td>\n",
       "      <td>2018-01-27 14:45:07+00:00</td>\n",
       "    </tr>\n",
       "    <tr>\n",
       "      <th>2</th>\n",
       "      <td>930e0ef664f269cc9d5a869f121e18916693bec3</td>\n",
       "      <td>2017-05-18 19:22:51+00:00</td>\n",
       "    </tr>\n",
       "    <tr>\n",
       "      <th>3</th>\n",
       "      <td>7505c0ec7177d0106003f3cfd61d82155089056a</td>\n",
       "      <td>2018-07-31 07:30:21+00:00</td>\n",
       "    </tr>\n",
       "    <tr>\n",
       "      <th>4</th>\n",
       "      <td>1d3f0e683c6ebb07fd7d35ba128d0288823a8bef</td>\n",
       "      <td>2017-11-14 09:45:55+00:00</td>\n",
       "    </tr>\n",
       "  </tbody>\n",
       "</table>\n",
       "</div>"
      ],
      "text/plain": [
       "                                     commit                      date\n",
       "0  4fd28836b86db8f2705caecd95a6c878029497d2 2018-02-09 23:33:49+00:00\n",
       "1  39aab4a68e904d23f7374df195648ad49beeade3 2018-01-27 14:45:07+00:00\n",
       "2  930e0ef664f269cc9d5a869f121e18916693bec3 2017-05-18 19:22:51+00:00\n",
       "3  7505c0ec7177d0106003f3cfd61d82155089056a 2018-07-31 07:30:21+00:00\n",
       "4  1d3f0e683c6ebb07fd7d35ba128d0288823a8bef 2017-11-14 09:45:55+00:00"
      ]
     },
     "execution_count": 4,
     "metadata": {},
     "output_type": "execute_result"
    }
   ],
   "source": [
    "query = \"\"\"\n",
    "SELECT commit, committer.date\n",
    "FROM `bigquery-public-data.github_repos.commits`,\n",
    "UNNEST(difference) AS diff\n",
    "WHERE diff.new_path = '.circleci/config.yml'\n",
    "\"\"\"\n",
    "df = client.query(query).to_dataframe()\n",
    "df.head()"
   ]
  },
  {
   "cell_type": "code",
   "execution_count": 29,
   "metadata": {},
   "outputs": [
    {
     "data": {
      "text/html": [
       "<div>\n",
       "<style scoped>\n",
       "    .dataframe tbody tr th:only-of-type {\n",
       "        vertical-align: middle;\n",
       "    }\n",
       "\n",
       "    .dataframe tbody tr th {\n",
       "        vertical-align: top;\n",
       "    }\n",
       "\n",
       "    .dataframe thead th {\n",
       "        text-align: right;\n",
       "    }\n",
       "</style>\n",
       "<table border=\"1\" class=\"dataframe\">\n",
       "  <thead>\n",
       "    <tr style=\"text-align: right;\">\n",
       "      <th></th>\n",
       "      <th>commit</th>\n",
       "      <th>date</th>\n",
       "      <th>year-mo</th>\n",
       "      <th>foo</th>\n",
       "    </tr>\n",
       "  </thead>\n",
       "  <tbody>\n",
       "    <tr>\n",
       "      <th>0</th>\n",
       "      <td>4fd28836b86db8f2705caecd95a6c878029497d2</td>\n",
       "      <td>2018-02-09 23:33:49+00:00</td>\n",
       "      <td>2018-02-09 23:33:49+00:00</td>\n",
       "      <td>2018-02-09 23:33:49+00:00</td>\n",
       "    </tr>\n",
       "    <tr>\n",
       "      <th>1</th>\n",
       "      <td>39aab4a68e904d23f7374df195648ad49beeade3</td>\n",
       "      <td>2018-01-27 14:45:07+00:00</td>\n",
       "      <td>2018-01-27 14:45:07+00:00</td>\n",
       "      <td>2018-01-27 14:45:07+00:00</td>\n",
       "    </tr>\n",
       "    <tr>\n",
       "      <th>2</th>\n",
       "      <td>930e0ef664f269cc9d5a869f121e18916693bec3</td>\n",
       "      <td>2017-05-18 19:22:51+00:00</td>\n",
       "      <td>2017-05-18 19:22:51+00:00</td>\n",
       "      <td>2017-05-18 19:22:51+00:00</td>\n",
       "    </tr>\n",
       "    <tr>\n",
       "      <th>3</th>\n",
       "      <td>7505c0ec7177d0106003f3cfd61d82155089056a</td>\n",
       "      <td>2018-07-31 07:30:21+00:00</td>\n",
       "      <td>2018-07-31 07:30:21+00:00</td>\n",
       "      <td>2018-07-31 07:30:21+00:00</td>\n",
       "    </tr>\n",
       "    <tr>\n",
       "      <th>4</th>\n",
       "      <td>1d3f0e683c6ebb07fd7d35ba128d0288823a8bef</td>\n",
       "      <td>2017-11-14 09:45:55+00:00</td>\n",
       "      <td>2017-11-14 09:45:55+00:00</td>\n",
       "      <td>2017-11-14 09:45:55+00:00</td>\n",
       "    </tr>\n",
       "  </tbody>\n",
       "</table>\n",
       "</div>"
      ],
      "text/plain": [
       "                                     commit                      date  \\\n",
       "0  4fd28836b86db8f2705caecd95a6c878029497d2 2018-02-09 23:33:49+00:00   \n",
       "1  39aab4a68e904d23f7374df195648ad49beeade3 2018-01-27 14:45:07+00:00   \n",
       "2  930e0ef664f269cc9d5a869f121e18916693bec3 2017-05-18 19:22:51+00:00   \n",
       "3  7505c0ec7177d0106003f3cfd61d82155089056a 2018-07-31 07:30:21+00:00   \n",
       "4  1d3f0e683c6ebb07fd7d35ba128d0288823a8bef 2017-11-14 09:45:55+00:00   \n",
       "\n",
       "                    year-mo                       foo  \n",
       "0 2018-02-09 23:33:49+00:00 2018-02-09 23:33:49+00:00  \n",
       "1 2018-01-27 14:45:07+00:00 2018-01-27 14:45:07+00:00  \n",
       "2 2017-05-18 19:22:51+00:00 2017-05-18 19:22:51+00:00  \n",
       "3 2018-07-31 07:30:21+00:00 2018-07-31 07:30:21+00:00  \n",
       "4 2017-11-14 09:45:55+00:00 2017-11-14 09:45:55+00:00  "
      ]
     },
     "execution_count": 29,
     "metadata": {},
     "output_type": "execute_result"
    }
   ],
   "source": [
    "df.head()"
   ]
  },
  {
   "cell_type": "code",
   "execution_count": 42,
   "metadata": {},
   "outputs": [],
   "source": [
    "import matplotlib.pyplot as plt\n",
    "\n",
    "# date is not groupsing right __shrug__\n",
    "df[\"foo\"] = pd.to_datetime(df[\"date\"])\n",
    "#g = df.groupby([df.foo.year, df.foo.month, df.foo.day])\n",
    "g = df.groupby(pd.Grouper(key='year-mo',freq='M'))\n"
   ]
  },
  {
   "cell_type": "code",
   "execution_count": 43,
   "metadata": {},
   "outputs": [
    {
     "data": {
      "image/png": "[encoded data removed]",
      "text/plain": [
       "<Figure size 800x300 with 1 Axes>"
      ]
     },
     "metadata": {
      "needs_background": "light"
     },
     "output_type": "display_data"
    }
   ],
   "source": [
    "\n",
    "counts = g['year-mo'].count()\n",
    "\n",
    "fig = plt.figure(0,figsize=(8,3), frameon=False, dpi=100,clear=True)\n",
    "plt.plot(counts.index, counts)\n",
    "plt.tight_layout()\n"
   ]
  },
  {
   "cell_type": "code",
   "execution_count": 61,
   "metadata": {},
   "outputs": [
    {
     "data": {
      "image/png": "[encoded data removed]",
      "text/plain": [
       "<Figure size 800x300 with 1 Axes>"
      ]
     },
     "metadata": {
      "needs_background": "light"
     },
     "output_type": "display_data"
    }
   ],
   "source": []
  },
  {
   "cell_type": "markdown",
   "metadata": {},
   "source": [
    "## fig = plt.figure(0,figsize=(2,3), frameon=False, dpi=100,clear=True)\n",
    "plt.scatter(commit_year.index,commit_year)"
   ]
  },
  {
   "cell_type": "code",
   "execution_count": null,
   "metadata": {},
   "outputs": [],
   "source": []
  }
 ],
 "metadata": {
  "kernelspec": {
   "display_name": "Python 3",
   "language": "python",
   "name": "python3"
  },
  "language_info": {
   "codemirror_mode": {
    "name": "ipython",
    "version": 3
   },
   "file_extension": ".py",
   "mimetype": "text/x-python",
   "name": "python",
   "nbconvert_exporter": "python",
   "pygments_lexer": "ipython3",
   "version": "3.7.0"
  }
 },
 "nbformat": 4,
 "nbformat_minor": 2
}
